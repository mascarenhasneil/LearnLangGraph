{
 "cells": [
  {
   "cell_type": "markdown",
   "id": "6c196d22",
   "metadata": {},
   "source": [
    "## Agent 1 Practice"
   ]
  },
  {
   "cell_type": "code",
   "execution_count": null,
   "id": "117a6e17",
   "metadata": {},
   "outputs": [],
   "source": [
    "from typing import Dict, TypedDict\n",
    "from langgraph.graph import StateGraph # the framework that helps us to design and manage the flow in out application environment using lang graphs\n"
   ]
  },
  {
   "cell_type": "code",
   "execution_count": null,
   "id": "85c9bf42",
   "metadata": {},
   "outputs": [],
   "source": [
    "# Now we create AgentState that will be our shared data structure to keep track of the information as our application runs\n",
    "\n",
    "class AgentState( TypedDict ):\n",
    "    message : str\n",
    "\n",
    "\n",
    "def greeting_node(state : AgentState ) -> AgentState :\n",
    "    \"\"\" Simple note that adds a greeting message \"\"\"\n",
    "    state[\"message\"] = f\"Hi {state['message']}, How is your day going so far?\"\n",
    "    return state\n",
    "\n"
   ]
  },
  {
   "cell_type": "code",
   "execution_count": 3,
   "id": "64113b09",
   "metadata": {},
   "outputs": [],
   "source": [
    "graph = StateGraph(state_schema = AgentState)\n",
    "\n",
    "graph.add_node(node = \"greeter\", action = greeting_node)\n",
    "\n",
    "graph.set_entry_point(key = \"greeter\")\n",
    "graph.set_finish_point(key = \"greeter\")\n",
    "\n",
    "app = graph.compile()\n"
   ]
  },
  {
   "cell_type": "code",
   "execution_count": 4,
   "id": "4187cc48",
   "metadata": {},
   "outputs": [
    {
     "data": {
      "image/png": "[encoded data removed]",
      "text/plain": [
       "<IPython.core.display.Image object>"
      ]
     },
     "metadata": {},
     "output_type": "display_data"
    }
   ],
   "source": [
    "from IPython.display import Image, display\n",
    "display(Image(app.get_graph().draw_mermaid_png())) "
   ]
  },
  {
   "cell_type": "code",
   "execution_count": 5,
   "id": "063132cb",
   "metadata": {},
   "outputs": [
    {
     "data": {
      "text/plain": [
       "'Hi Bob, How is your day going so far?'"
      ]
     },
     "execution_count": 5,
     "metadata": {},
     "output_type": "execute_result"
    }
   ],
   "source": [
    "result = app.invoke({\"message\":\"Bob\"})\n",
    "result[\"message\"]"
   ]
  },
  {
   "cell_type": "markdown",
   "id": "800d0530",
   "metadata": {},
   "source": [
    "## Agent 1 Exercise"
   ]
  },
  {
   "cell_type": "markdown",
   "id": "f62829c2",
   "metadata": {},
   "source": [
    "### Our task: Create a Personalized Compliment Agent using LangGraph!\n",
    "\n",
    "**Input:** {\"name\": \"Bob\"}  \n",
    "**Output:** \"Bob, you're doing an amazing job learning LangGraph!\"\n",
    "\n",
    "*Hint: You have to concatenate the state, not replace it*"
   ]
  },
  {
   "cell_type": "code",
   "execution_count": 6,
   "id": "f351a1d5",
   "metadata": {},
   "outputs": [],
   "source": [
    "class AgentState(TypedDict):\n",
    "    name: str\n",
    "\n",
    "\n",
    "def compliment_node(state: AgentState) -> AgentState:\n",
    "    \"\"\" Simple node that adds a compliment message with name\"\"\"\n",
    "    state[\"name\"] = f\"Hi {state['name']}, you're doing an amazing job learning LangGraph!\"\n",
    "    return state\n",
    "\n"
   ]
  },
  {
   "cell_type": "code",
   "execution_count": 7,
   "id": "45e94129",
   "metadata": {},
   "outputs": [],
   "source": [
    "graph = StateGraph(state_schema=AgentState) # we create a new graph for the complimenter application\n",
    "\n",
    "graph.add_node(node=\"complimenter\", action=compliment_node)\n",
    "graph.set_entry_point(key=\"complimenter\")\n",
    "graph.set_finish_point(key=\"complimenter\")\n",
    "app = graph.compile()"
   ]
  },
  {
   "cell_type": "code",
   "execution_count": 8,
   "id": "0583c1a4",
   "metadata": {},
   "outputs": [
    {
     "data": {
      "image/png": "[encoded data removed]",
      "text/plain": [
       "<IPython.core.display.Image object>"
      ]
     },
     "metadata": {},
     "output_type": "display_data"
    }
   ],
   "source": [
    "display(Image(app.get_graph().draw_mermaid_png())) # we display the graph of the complimenter application \n"
   ]
  },
  {
   "cell_type": "code",
   "execution_count": 9,
   "id": "9daa1d86",
   "metadata": {},
   "outputs": [
    {
     "data": {
      "text/plain": [
       "\"Hi Bob, you're doing an amazing job learning LangGraph!\""
      ]
     },
     "execution_count": 9,
     "metadata": {},
     "output_type": "execute_result"
    }
   ],
   "source": [
    "result = app.invoke({\"name\": \"Bob\"})\n",
    "result[\"name\"] "
   ]
  },
  {
   "cell_type": "markdown",
   "id": "0ec75db8",
   "metadata": {},
   "source": [
    "The End 😊 "
   ]
  }
 ],
 "metadata": {
  "kernelspec": {
   "display_name": ".venv (3.13.2)",
   "language": "python",
   "name": "python3"
  },
  "language_info": {
   "codemirror_mode": {
    "name": "ipython",
    "version": 3
   },
   "file_extension": ".py",
   "mimetype": "text/x-python",
   "name": "python",
   "nbconvert_exporter": "python",
   "pygments_lexer": "ipython3",
   "version": "3.13.2"
  }
 },
 "nbformat": 4,
 "nbformat_minor": 5
}
