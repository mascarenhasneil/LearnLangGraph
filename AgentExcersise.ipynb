{
 "cells": [
  {
   "cell_type": "markdown",
   "id": "6c196d22",
   "metadata": {},
   "source": [
    "## Agent 1 Practice"
   ]
  },
  {
   "cell_type": "code",
   "execution_count": 1,
   "id": "117a6e17",
   "metadata": {},
   "outputs": [],
   "source": [
    "from typing import TypedDict, Dict\n",
    "from langgraph.graph import StateGraph # the framework that helps us to design and manage the flow in out application environment using lang graphs\n",
    "from IPython.display import Image, display\n",
    "\n",
    "import math"
   ]
  },
  {
   "cell_type": "code",
   "execution_count": 2,
   "id": "85c9bf42",
   "metadata": {},
   "outputs": [],
   "source": [
    "# Now we create AgentState that will be our shared data structure to keep track of the information as our application runs\n",
    "\n",
    "class AgentState( TypedDict ):\n",
    "    message : str\n",
    "\n",
    "\n",
    "def greeting_node(state : AgentState ) -> AgentState :\n",
    "    \"\"\" Simple note that adds a greeting message \"\"\"\n",
    "    state[\"message\"] = f\"Hi {state['message']}, How is your day going so far?\"\n",
    "    return state\n",
    "\n"
   ]
  },
  {
   "cell_type": "code",
   "execution_count": 3,
   "id": "64113b09",
   "metadata": {},
   "outputs": [],
   "source": [
    "graph = StateGraph(state_schema = AgentState)\n",
    "\n",
    "graph.add_node(node = \"greeter\", action = greeting_node)\n",
    "\n",
    "graph.set_entry_point(key = \"greeter\")\n",
    "graph.set_finish_point(key = \"greeter\")\n",
    "\n",
    "app = graph.compile()\n"
   ]
  },
  {
   "cell_type": "code",
   "execution_count": 4,
   "id": "4187cc48",
   "metadata": {},
   "outputs": [
    {
     "data": {
      "image/png": "[encoded data removed]",
      "text/plain": [
       "<IPython.core.display.Image object>"
      ]
     },
     "metadata": {},
     "output_type": "display_data"
    }
   ],
   "source": [
    "display(Image(app.get_graph().draw_mermaid_png())) "
   ]
  },
  {
   "cell_type": "code",
   "execution_count": 5,
   "id": "063132cb",
   "metadata": {},
   "outputs": [
    {
     "data": {
      "text/plain": [
       "'Hi Bob, How is your day going so far?'"
      ]
     },
     "execution_count": 5,
     "metadata": {},
     "output_type": "execute_result"
    }
   ],
   "source": [
    "result = app.invoke({\"message\":\"Bob\"})\n",
    "result[\"message\"]"
   ]
  },
  {
   "cell_type": "markdown",
   "id": "800d0530",
   "metadata": {},
   "source": [
    "## Agent 1 Exercise"
   ]
  },
  {
   "cell_type": "markdown",
   "id": "f62829c2",
   "metadata": {},
   "source": [
    "### Our task: Create a Personalized Compliment Agent using LangGraph!\n",
    "\n",
    "**Input:** {\"name\": \"Neil\"}  \n",
    "**Output:** \"Neil, you're doing an amazing job learning LangGraph!\"\n",
    "\n",
    "*Hint: You have to concatenate the state, not replace it*"
   ]
  },
  {
   "cell_type": "code",
   "execution_count": 6,
   "id": "f351a1d5",
   "metadata": {},
   "outputs": [],
   "source": [
    "class AgentState(TypedDict):\n",
    "    name: str\n",
    "\n",
    "\n",
    "def compliment_node(state: AgentState) -> AgentState:\n",
    "    \"\"\" Simple node that adds a compliment message with name\"\"\"\n",
    "    state[\"name\"] = f\"Hi {state['name']}, you're doing an amazing job learning LangGraph!\"\n",
    "    return state\n",
    "\n"
   ]
  },
  {
   "cell_type": "code",
   "execution_count": 7,
   "id": "45e94129",
   "metadata": {},
   "outputs": [],
   "source": [
    "graph = StateGraph(state_schema=AgentState) # we create a new graph for the complimenter application\n",
    "\n",
    "graph.add_node(node=\"complimenter\", action=compliment_node)\n",
    "graph.set_entry_point(key=\"complimenter\")\n",
    "graph.set_finish_point(key=\"complimenter\")\n",
    "app = graph.compile()"
   ]
  },
  {
   "cell_type": "code",
   "execution_count": 8,
   "id": "0583c1a4",
   "metadata": {},
   "outputs": [
    {
     "data": {
      "image/png": "[encoded data removed]",
      "text/plain": [
       "<IPython.core.display.Image object>"
      ]
     },
     "metadata": {},
     "output_type": "display_data"
    }
   ],
   "source": [
    "display(Image(app.get_graph().draw_mermaid_png())) # we display the graph of the complimenter application \n"
   ]
  },
  {
   "cell_type": "code",
   "execution_count": 9,
   "id": "9daa1d86",
   "metadata": {},
   "outputs": [
    {
     "data": {
      "text/plain": [
       "\"Hi Neil, you're doing an amazing job learning LangGraph!\""
      ]
     },
     "execution_count": 9,
     "metadata": {},
     "output_type": "execute_result"
    }
   ],
   "source": [
    "result = app.invoke({\"name\": \"Neil\"})\n",
    "result[\"name\"] "
   ]
  },
  {
   "cell_type": "markdown",
   "id": "5cc92f3a",
   "metadata": {},
   "source": [
    "## Agent 2 Graph II : Practice "
   ]
  },
  {
   "cell_type": "code",
   "execution_count": 10,
   "id": "561c2566",
   "metadata": {},
   "outputs": [],
   "source": [
    "class AgentState(TypedDict):\n",
    "    value: list[int]\n",
    "    name : str\n",
    "    result: str"
   ]
  },
  {
   "cell_type": "code",
   "execution_count": 11,
   "id": "cf89d83e",
   "metadata": {},
   "outputs": [],
   "source": [
    "def process_values ( state : AgentState) -> AgentState :\n",
    "    \"\"\" Simple node that processes a list of values and returns a result \"\"\"\n",
    "    state[\"result\"] = f\"Hi there, {state['name']}! Your sum of values is = {sum(state['value'])}\"\n",
    "    return state"
   ]
  },
  {
   "cell_type": "code",
   "execution_count": 12,
   "id": "0966663d",
   "metadata": {},
   "outputs": [],
   "source": [
    "graph = StateGraph(state_schema =  AgentState) # we create a new graph for the value processor application\n",
    "\n",
    "graph.add_node(node = \"process_values\", action = process_values)\n",
    "\n",
    "graph.set_entry_point(key = \"process_values\")\n",
    "graph.set_finish_point(key = \"process_values\")\n",
    "\n",
    "app = graph.compile()\n",
    "\n"
   ]
  },
  {
   "cell_type": "code",
   "execution_count": 13,
   "id": "e0814c4a",
   "metadata": {},
   "outputs": [
    {
     "data": {
      "image/png": "[encoded data removed]",
      "text/plain": [
       "<IPython.core.display.Image object>"
      ]
     },
     "metadata": {},
     "output_type": "display_data"
    }
   ],
   "source": [
    "display(Image(app.get_graph().draw_mermaid_png())) "
   ]
  },
  {
   "cell_type": "code",
   "execution_count": 14,
   "id": "9175151d",
   "metadata": {},
   "outputs": [
    {
     "data": {
      "text/plain": [
       "'Hi there, Neil! Your sum of values is = 55'"
      ]
     },
     "metadata": {},
     "output_type": "display_data"
    }
   ],
   "source": [
    "result = app.invoke({\"name\":\"Neil\", \"value\": [1,2,3,4,5,6,7,8,9,10]})\n",
    "\n",
    "display(result[\"result\"]) "
   ]
  },
  {
   "cell_type": "markdown",
   "id": "07b3b137",
   "metadata": {},
   "source": [
    "## Agent 2 Graph II : Exercise \n",
    "\n",
    "Create a __Graph__ where you pass in a single list of integers along with a name and an \n",
    "operation. If the operation is a “+”, you __add__ the elements and if it is a “*”, you \n",
    "__multiply__ the elements, __all within the same node.__\n",
    "\n",
    "__Input:__ {\"name\": \"Neil Sparrow\",\"values\": [1,2,3,4] , \"operation\": \"*\"}\n",
    "\n",
    "__Output:__ \"Hi Neil Sparrow, your answer is: 24\"\n",
    "\n",
    "*Hint: You need an if-statement in your node!*\n"
   ]
  },
  {
   "cell_type": "code",
   "execution_count": 15,
   "id": "9910c066",
   "metadata": {},
   "outputs": [],
   "source": [
    "class AgentState(TypedDict):\n",
    "    name: str\n",
    "    values: list[int]\n",
    "    operation: str\n",
    "    result: str "
   ]
  },
  {
   "cell_type": "code",
   "execution_count": 16,
   "id": "79324f7d",
   "metadata": {},
   "outputs": [],
   "source": [
    "def process_operation(state: AgentState) -> AgentState:\n",
    "    \"\"\" Simple node that processes a list of values and returns a result based on the operation \"\"\"\n",
    "    answer : int = 0\n",
    "    if state[\"operation\"] == \"+\":\n",
    "        answer = sum(state[\"values\"])\n",
    "    \n",
    "    elif state[\"operation\"] == \"*\":\n",
    "        answer = math.prod(state[\"values\"])\n",
    "                \n",
    "    else: \n",
    "        answer = 0\n",
    "           \n",
    "    \n",
    "    state[\"result\"] = f\"Hi {state[\"name\"]}, You had selected {state[\"operation\"]} operation, and the result is {answer}\"\n",
    "       \n",
    "    \n",
    "    return state\n",
    "    "
   ]
  },
  {
   "cell_type": "code",
   "execution_count": 17,
   "id": "d846b4f2",
   "metadata": {},
   "outputs": [],
   "source": [
    "graph = StateGraph(state_schema=AgentState)  # we create a new graph for the operation processor application\n",
    "\n",
    "graph.add_node(node=\"process_operation\", action=process_operation)\n",
    "\n",
    "graph.set_entry_point(key=\"process_operation\")  \n",
    "graph.set_finish_point(key=\"process_operation\")\n",
    "\n",
    "app = graph.compile()\n"
   ]
  },
  {
   "cell_type": "code",
   "execution_count": 18,
   "id": "ab2eb824",
   "metadata": {},
   "outputs": [
    {
     "data": {
      "image/png": "[encoded data removed]",
      "text/plain": [
       "<IPython.core.display.Image object>"
      ]
     },
     "metadata": {},
     "output_type": "display_data"
    }
   ],
   "source": [
    "display( Image(app.get_graph().draw_mermaid_png()))  # we display the graph of the operation processor application\n"
   ]
  },
  {
   "cell_type": "code",
   "execution_count": 19,
   "id": "1208889f",
   "metadata": {},
   "outputs": [
    {
     "data": {
      "text/plain": [
       "'Hi Neil Sparrow, You had selected + operation, and the result is 55'"
      ]
     },
     "metadata": {},
     "output_type": "display_data"
    },
    {
     "data": {
      "text/plain": [
       "'Hi Neil Sparrow, You had selected * operation, and the result is 3628800'"
      ]
     },
     "metadata": {},
     "output_type": "display_data"
    }
   ],
   "source": [
    "# additional \n",
    "result : Dict = app.invoke({\"name\": \"Neil Sparrow\", \"values\": [1, 2, 3, 4, 5, 6, 7, 8, 9, 10], \"operation\": \"+\"})\n",
    "display(result[\"result\"]) \n",
    "\n",
    "# Multiplication\n",
    "result = app.invoke({\"name\": \"Neil Sparrow\", \"values\": [1, 2, 3, 4, 5, 6, 7, 8, 9,10], \"operation\": \"*\"})\n",
    "display(result[\"result\"])"
   ]
  },
  {
   "cell_type": "markdown",
   "id": "06854894",
   "metadata": {},
   "source": [
    "## Agent 3 Graph III : Practice "
   ]
  },
  {
   "cell_type": "code",
   "execution_count": 20,
   "id": "b09279b5",
   "metadata": {},
   "outputs": [],
   "source": [
    "class AgentState(TypedDict):\n",
    "    name: str\n",
    "    age: str\n",
    "    final: str"
   ]
  },
  {
   "cell_type": "code",
   "execution_count": 21,
   "id": "561e5f0b",
   "metadata": {},
   "outputs": [],
   "source": [
    "def first_node(state : AgentState) -> AgentState:\n",
    "    \"\"\"This is first node for the agent\"\"\"\n",
    "    \n",
    "    state[\"final\"] =  f\"Hi {state['name']}!\"\n",
    "    return state\n",
    "\n",
    "def second_node(state: AgentState) -> AgentState:\n",
    "    \"\"\"This is Second Node for the Agent\"\"\"\n",
    "    \n",
    "    state['final'] = state['final'] + f\" you are {state['age']} years old.\"    \n",
    "    return state"
   ]
  },
  {
   "cell_type": "code",
   "execution_count": 22,
   "metadata": {},
   "outputs": [],
   "source": [
    "graph = StateGraph(state_schema= AgentState)\n",
    "\n",
    "graph.add_node(node = \"first_node\", action= first_node)\n",
    "graph.add_node(node = \"second_node\", action= second_node)\n",
    "\n",
    "graph.add_edge(start_key=\"first_node\",end_key=\"second_node\")\n",
    "\n",
    "graph.set_entry_point( key= \"first_node\")\n",
    "graph.set_finish_point(key= \"second_node\")\n",
    "\n",
    "\n",
    "app = graph.compile()\n",
    "\n",
    "\n"
   ]
  },
  {
   "cell_type": "code",
   "execution_count": 23,
   "metadata": {},
   "outputs": [
    {
     "data": {
      "image/png": "[encoded data removed]",
      "text/plain": [
       "<IPython.core.display.Image object>"
      ]
     },
     "metadata": {},
     "output_type": "display_data"
    }
   ],
   "source": [
    "display(Image(app.get_graph().draw_mermaid_png()))"
   ]
  },
  {
   "cell_type": "code",
   "execution_count": 24,
   "metadata": {},
   "outputs": [
    {
     "data": {
      "text/plain": [
       "'Hi Charlie! you are 20 years old.'"
      ]
     },
     "metadata": {},
     "output_type": "display_data"
    }
   ],
   "source": [
    "result : Dict = app.invoke(input = {\"name\":\"Charlie\",\"age\": 20})\n",
    "\n",
    "display(result[\"final\"])"
   ]
  },
  {
   "cell_type": "code",
   "execution_count": null,
   "metadata": {},
   "outputs": [],
   "source": []
  },
  {
   "cell_type": "code",
   "execution_count": null,
   "id": "db81b5d7",
   "metadata": {},
   "outputs": [],
   "source": []
  },
  {
   "cell_type": "markdown",
   "id": "0ec75db8",
   "metadata": {},
   "source": [
    "The End 😊 "
   ]
  }
 ],
 "metadata": {
  "kernelspec": {
   "display_name": ".venv (3.13.2)",
   "language": "python",
   "name": "python3"
  },
  "language_info": {
   "codemirror_mode": {
    "name": "ipython",
    "version": 3
   },
   "file_extension": ".py",
   "mimetype": "text/x-python",
   "name": "python",
   "nbconvert_exporter": "python",
   "pygments_lexer": "ipython3",
   "version": "3.13.2"
  }
 },
 "nbformat": 4,
 "nbformat_minor": 5
}
